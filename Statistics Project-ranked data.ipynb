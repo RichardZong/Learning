{
 "cells": [
  {
   "cell_type": "code",
   "execution_count": 1,
   "metadata": {
    "collapsed": true
   },
   "outputs": [],
   "source": [
    "import numpy as np\n",
    "import random\n",
    "import pandas as pd\n",
    "import math"
   ]
  },
  {
   "cell_type": "code",
   "execution_count": 2,
   "metadata": {},
   "outputs": [
    {
     "name": "stdout",
     "output_type": "stream",
     "text": [
      "The largest sample value is  19.9919453665\n",
      "The smallest sample value is 5.00061491109\n"
     ]
    }
   ],
   "source": [
    "PopulationSize = 500\n",
    "N= PopulationSize\n",
    "SampleSize = 100\n",
    "n=SampleSize\n",
    "\n",
    "np.random.RandomState\n",
    "np.random.seed(111)\n",
    "Sample = np.random.uniform(low=5,high=20,size=N)\n",
    "\n",
    "Sample = np.sort(Sample)\n",
    "a = max(Sample)\n",
    "b =min(Sample)\n",
    "print('The largest sample value is ',max(Sample))\n",
    "print('The smallest sample value is',min(Sample))\n"
   ]
  },
  {
   "cell_type": "code",
   "execution_count": 3,
   "metadata": {},
   "outputs": [
    {
     "name": "stdout",
     "output_type": "stream",
     "text": [
      "The variance of old y mean is 0.0017656496938431257\n"
     ]
    }
   ],
   "source": [
    "#stratum equals 5\n",
    "\n",
    "l1=Sample[:101];Wh1=len(l1)/N;var_l1=np.var(l1);mean_l1=np.mean(l1);n1=len(l1);\n",
    "l2=Sample[101:201];Wh2 =len(l2)/N;var_l2=np.var(l2);mean_l2=np.mean(l2);n2=len(l2)\n",
    "l3=Sample[201:301];Wh3=len(l3)/N;var_l3=np.var(l3);mean_l3=np.mean(l3);n3=len(l3)\n",
    "l4=Sample[301:401];Wh4=len(l4)/N;var_l4=np.var(l4);mean_l4=np.mean(l4);n4=len(l4)\n",
    "l5=Sample[401:501];Wh5=len(l5)/N;var_l5=np.var(l5);mean_l5=np.mean(l5);n5=len(l5)\n",
    "\n",
    "y1 = 1/2*(mean_l1+mean_l2);\n",
    "y2 = 1/2*(mean_l2+mean_l3);\n",
    "y3 = 1/2*(mean_l3+mean_l4);\n",
    "y4 = 1/2*(mean_l4+mean_l5);\n",
    "\n",
    "y=[y1,y2,y3,y4]\n",
    "l=[l1,l2,l3,l4,l5]\n",
    "Wh_l=[Wh1,Wh2,Wh3,Wh4,Wh5]\n",
    "mean_l=[mean_l1,mean_l2,mean_l3,mean_l4,mean_l5]\n",
    "n_l=[n1,n2,n3,n4,n5]\n",
    "\n",
    "n=len(Sample)\n",
    "var_l=[np.var(x) for x in l]\n",
    "standard_var_l = [math.sqrt(np.var(x)) for x in l]\n",
    "\n",
    "var_old=[Wh*standard for Wh,standard in zip(Wh_l,standard_var_l)]\n",
    "var_mean_y_old=1/sum(n_l)*sum(var_old)\n",
    "print('The variance of old y mean is',var_mean_y_old)\n"
   ]
  },
  {
   "cell_type": "code",
   "execution_count": 5,
   "metadata": {},
   "outputs": [
    {
     "data": {
      "text/plain": [
       "''"
      ]
     },
     "execution_count": 5,
     "metadata": {},
     "output_type": "execute_result"
    }
   ],
   "source": [
    "\"\"\"\n",
    "#np.random.RandomState\n",
    "#np.random.seed(222)\n",
    "# 10 samples retrieved each time,m=10. 5 cycles for each stratum r=5\n",
    "m=10\n",
    "r=5\n",
    "stratum1 =[]\n",
    "for k in range(5):\n",
    "    ranked_s1=[]\n",
    "    for i in range(10):\n",
    "        rand_number = np.random.randint(0,len(l1),10)\n",
    "    #print(rand_number)\n",
    "        s=[]\n",
    "        for number in rand_number:\n",
    "            s.append(data_matrix.stratum_1[number])\n",
    "        s_sorted = np.sort(s)\n",
    "        ranked_s1.append(s_sorted[i])\n",
    "    stratum1.append(ranked_s1)\n",
    "  \n",
    "stratum2 =[]\n",
    "for k in range(5):\n",
    "    ranked_s2=[]\n",
    "    for i in range(10):\n",
    "        rand_number = np.random.randint(0,len(l1),10)\n",
    "    #print(rand_number)\n",
    "        s=[]\n",
    "        for number in rand_number:\n",
    "            s.append(data_matrix.stratum_2[number])\n",
    "        s_sorted = np.sort(s)\n",
    "        ranked_s2.append(s_sorted[i])\n",
    "    stratum2.append(ranked_s2)\n",
    "\n",
    "stratum3 =[]\n",
    "for k in range(5):\n",
    "    ranked_s3=[]\n",
    "    for i in range(10):\n",
    "        rand_number = np.random.randint(0,len(l1),10)\n",
    "    #print(rand_number)\n",
    "        s=[]\n",
    "        for number in rand_number:\n",
    "            s.append(data_matrix.stratum_3[number])\n",
    "        s_sorted = np.sort(s)\n",
    "        ranked_s3.append(s_sorted[i])\n",
    "    stratum3.append(ranked_s3)\n",
    "    \n",
    "stratum4 =[]\n",
    "for k in range(5):\n",
    "    ranked_s4=[]\n",
    "    for i in range(10):\n",
    "        rand_number = np.random.randint(0,len(l1),10)\n",
    "    #print(rand_number)\n",
    "        s=[]\n",
    "        for number in rand_number:\n",
    "            s.append(data_matrix.stratum_4[number])\n",
    "        s_sorted = np.sort(s)\n",
    "        ranked_s4.append(s_sorted[i])\n",
    "    stratum4.append(ranked_s4)\n",
    "    \n",
    "stratum5 =[]\n",
    "for k in range(5):\n",
    "    ranked_s5=[]\n",
    "    for i in range(10):\n",
    "        rand_number = np.random.randint(0,len(l1),10)\n",
    "    #print(rand_number)\n",
    "        s=[]\n",
    "        for number in rand_number:\n",
    "            s.append(data_matrix.stratum_5[number])\n",
    "          \n",
    "        s_sorted = np.sort(s)\n",
    "        #print(s_sorted)\n",
    "        ranked_s5.append(s_sorted[i])\n",
    "   # print(ranked_s5)\n",
    "    stratum5.append(ranked_s5)\n",
    "ranked_strata = [stratum1,stratum2,stratum3,stratum4,stratum5]\n",
    "\"\"\"\n",
    ";"
   ]
  },
  {
   "cell_type": "code",
   "execution_count": 6,
   "metadata": {},
   "outputs": [],
   "source": [
    "\"\"\"\"\n",
    "ranked_mean=[]\n",
    "for stratum in ranked_strata:    \n",
    "    ranked_mean.append(pd.DataFrame(stratum).mean().mean())\n",
    "    \n",
    "    stratum_var=[]\n",
    "for stratum in ranked_strata:\n",
    "    stratum_var.append(pd.DataFrame(stratum).var(axis=1).mean())\n",
    "sum(stratum_var)\n",
    "\"\"\";"
   ]
  },
  {
   "cell_type": "code",
   "execution_count": 7,
   "metadata": {},
   "outputs": [
    {
     "name": "stdout",
     "output_type": "stream",
     "text": [
      "The variance of new mean y is 0.0014119088644583158\n",
      "The ratio of old to new y mean is 125.05408375069051\n"
     ]
    }
   ],
   "source": [
    "# Decide the new mean variance,m indicates the number of stratum\n",
    "m=5\n",
    "error= np.random.normal(0,1,5)\n",
    "constant_term=[0.25,0.50,1.0,1.25,1.75]\n",
    "RDY =[x +0.08*y for x,y in zip(constant_term,error)]\n",
    "Tao_square=[(value-1)**2 for value in RDY]\n",
    "Tao_square_sum=sum(Tao_square)\n",
    "var_new_standard=[math.sqrt(x-(1/m)*Tao_square_sum) for x in var_l]\n",
    "var_l_new=[Wh*standard for Wh,standard in zip(Wh_l,var_new_standard)]\n",
    "var_mean_y_new=1/sum(n_l)*sum(var_l_new)\n",
    "print('The variance of new mean y is',var_mean_y_new)\n",
    "Ratio = var_mean_y_old/var_mean_y_new*100\n",
    "print('The ratio of old to new y mean is',Ratio)"
   ]
  },
  {
   "cell_type": "code",
   "execution_count": 8,
   "metadata": {
    "collapsed": true
   },
   "outputs": [],
   "source": [
    "# Define the new boundary by the ranked stratum variance\n",
    "def New_y(u_i,u_j,sigma_i,sigma_j):\n",
    "    y_new = (u_i/sigma_i+u_j/sigma_j)/(1/sigma_i+1/sigma_j)\n",
    "    \n",
    "    return y_new"
   ]
  },
  {
   "cell_type": "code",
   "execution_count": 9,
   "metadata": {},
   "outputs": [
    {
     "name": "stdout",
     "output_type": "stream",
     "text": [
      "            new_boundary  old_boundary\n",
      "boundary_1      7.426570      7.729445\n",
      "boundary_2     10.867886     10.745789\n",
      "boundary_3     13.857624     13.914342\n",
      "boundary_4     17.177042     17.084889\n",
      "          new_variance  old_variance\n",
      "stratum1      0.111202      0.153935\n",
      "stratum2      0.166868      0.197362\n",
      "stratum3      0.141799      0.176675\n",
      "stratum4      0.151799      0.184797\n",
      "stratum5      0.134286      0.170055\n"
     ]
    }
   ],
   "source": [
    "# Find the new boundary\n",
    "NewY=[]\n",
    "for i in range(len(var_l_new)-1):\n",
    "    u_i=mean_l[i]\n",
    "    u_j = mean_l[i+1]\n",
    "    sigma_i=var_l_new[i]\n",
    "    sigma_j=var_l_new[i+1]\n",
    "    NewY.append(New_y(u_i,u_j,sigma_i,sigma_j))\n",
    "\n",
    "index=['boundary_1','boundary_2','boundary_3','boundary_4']\n",
    "\n",
    "boundary=pd.DataFrame({'old_boundary':y,'new_boundary':NewY},\n",
    "             index=index)\n",
    "print(boundary)\n",
    "index1=['stratum1','stratum2','stratum3','stratum4','stratum5']\n",
    "variance = pd.DataFrame({'old_variance':var_old,'new_variance':var_l_new},index=index1)\n",
    "print(variance)"
   ]
  },
  {
   "cell_type": "code",
   "execution_count": null,
   "metadata": {
    "collapsed": true
   },
   "outputs": [],
   "source": []
  }
 ],
 "metadata": {
  "kernelspec": {
   "display_name": "Python 3",
   "language": "python",
   "name": "python3"
  },
  "language_info": {
   "codemirror_mode": {
    "name": "ipython",
    "version": 3
   },
   "file_extension": ".py",
   "mimetype": "text/x-python",
   "name": "python",
   "nbconvert_exporter": "python",
   "pygments_lexer": "ipython3",
   "version": "3.6.1"
  }
 },
 "nbformat": 4,
 "nbformat_minor": 2
}
